{
 "cells": [
  {
   "cell_type": "code",
   "execution_count": 1,
   "metadata": {
    "collapsed": true
   },
   "outputs": [],
   "source": [
    "import pandas as pd\n",
    "import numpy as np"
   ]
  },
  {
   "cell_type": "code",
   "execution_count": 2,
   "metadata": {
    "collapsed": false
   },
   "outputs": [],
   "source": [
    "rng = pd.date_range('1/1/2011', periods = 72, freq = 'H')\n",
    "ts = pd.Series(list(range(len(rng))), index = rng)"
   ]
  },
  {
   "cell_type": "code",
   "execution_count": 3,
   "metadata": {
    "collapsed": false
   },
   "outputs": [
    {
     "data": {
      "text/plain": [
       "2011-01-01 00:00:00    0\n",
       "2011-01-01 01:00:00    1\n",
       "2011-01-01 02:00:00    2\n",
       "2011-01-01 03:00:00    3\n",
       "2011-01-01 04:00:00    4\n",
       "Freq: H, dtype: int64"
      ]
     },
     "execution_count": 3,
     "metadata": {},
     "output_type": "execute_result"
    }
   ],
   "source": [
    "ts.head()"
   ]
  },
  {
   "cell_type": "code",
   "execution_count": 4,
   "metadata": {
    "collapsed": true
   },
   "outputs": [],
   "source": [
    "converted = ts.asfreq('45Min', method = 'ffill')"
   ]
  },
  {
   "cell_type": "markdown",
   "metadata": {},
   "source": [
    "### What does the above code do to the size and content of your data frame?"
   ]
  },
  {
   "cell_type": "code",
   "execution_count": 5,
   "metadata": {
    "collapsed": false
   },
   "outputs": [
    {
     "data": {
      "text/plain": [
       "(72,)"
      ]
     },
     "execution_count": 5,
     "metadata": {},
     "output_type": "execute_result"
    }
   ],
   "source": [
    "ts.shape"
   ]
  },
  {
   "cell_type": "code",
   "execution_count": 6,
   "metadata": {
    "collapsed": false
   },
   "outputs": [
    {
     "data": {
      "text/plain": [
       "(95,)"
      ]
     },
     "execution_count": 6,
     "metadata": {},
     "output_type": "execute_result"
    }
   ],
   "source": [
    "converted.shape"
   ]
  },
  {
   "cell_type": "code",
   "execution_count": 7,
   "metadata": {
    "collapsed": false
   },
   "outputs": [
    {
     "data": {
      "text/plain": [
       "2011-01-01 00:45:00    0\n",
       "2011-01-01 01:30:00    1\n",
       "2011-01-01 02:15:00    2\n",
       "2011-01-01 03:00:00    3\n",
       "2011-01-01 03:45:00    3\n",
       "2011-01-01 04:30:00    4\n",
       "2011-01-01 05:15:00    5\n",
       "2011-01-01 06:00:00    6\n",
       "2011-01-01 06:45:00    6\n",
       "Freq: 45T, dtype: int64"
      ]
     },
     "execution_count": 7,
     "metadata": {},
     "output_type": "execute_result"
    }
   ],
   "source": [
    "converted[1:10]"
   ]
  },
  {
   "cell_type": "code",
   "execution_count": 8,
   "metadata": {
    "collapsed": false
   },
   "outputs": [
    {
     "data": {
      "text/plain": [
       "2011-01-01 00:45:00    NaN\n",
       "2011-01-01 01:30:00    NaN\n",
       "2011-01-01 02:15:00    NaN\n",
       "2011-01-01 03:00:00    3.0\n",
       "2011-01-01 03:45:00    NaN\n",
       "2011-01-01 04:30:00    NaN\n",
       "2011-01-01 05:15:00    NaN\n",
       "2011-01-01 06:00:00    6.0\n",
       "2011-01-01 06:45:00    NaN\n",
       "Freq: 45T, dtype: float64"
      ]
     },
     "execution_count": 8,
     "metadata": {},
     "output_type": "execute_result"
    }
   ],
   "source": [
    "ts.asfreq('45Min')[1:10]"
   ]
  },
  {
   "cell_type": "code",
   "execution_count": 9,
   "metadata": {
    "collapsed": false
   },
   "outputs": [
    {
     "data": {
      "text/plain": [
       "2011-01-01 01:00:00    1\n",
       "2011-01-01 02:00:00    2\n",
       "2011-01-01 03:00:00    3\n",
       "2011-01-01 04:00:00    4\n",
       "2011-01-01 05:00:00    5\n",
       "2011-01-01 06:00:00    6\n",
       "2011-01-01 07:00:00    7\n",
       "2011-01-01 08:00:00    8\n",
       "2011-01-01 09:00:00    9\n",
       "Freq: H, dtype: int64"
      ]
     },
     "execution_count": 9,
     "metadata": {},
     "output_type": "execute_result"
    }
   ],
   "source": [
    "ts[1:10]"
   ]
  },
  {
   "cell_type": "markdown",
   "metadata": {},
   "source": [
    "### Take a look at the specs for .asfreq(). What are your options for filling in missing data?\n",
    "https://pandas.pydata.org/pandas-docs/stable/generated/pandas.DataFrame.asfreq.html"
   ]
  },
  {
   "cell_type": "code",
   "execution_count": 10,
   "metadata": {
    "collapsed": true
   },
   "outputs": [],
   "source": [
    "bfill = ts.asfreq('45Min', method = 'bfill')"
   ]
  },
  {
   "cell_type": "code",
   "execution_count": 11,
   "metadata": {
    "collapsed": false
   },
   "outputs": [
    {
     "data": {
      "text/plain": [
       "2011-01-01 00:45:00    1\n",
       "2011-01-01 01:30:00    2\n",
       "2011-01-01 02:15:00    3\n",
       "2011-01-01 03:00:00    3\n",
       "2011-01-01 03:45:00    4\n",
       "2011-01-01 04:30:00    5\n",
       "2011-01-01 05:15:00    6\n",
       "2011-01-01 06:00:00    6\n",
       "2011-01-01 06:45:00    7\n",
       "Freq: 45T, dtype: int64"
      ]
     },
     "execution_count": 11,
     "metadata": {},
     "output_type": "execute_result"
    }
   ],
   "source": [
    "bfill[1:10]"
   ]
  },
  {
   "cell_type": "markdown",
   "metadata": {},
   "source": [
    "### How can you go to less frequent rather than more frequent?"
   ]
  },
  {
   "cell_type": "code",
   "execution_count": 12,
   "metadata": {
    "collapsed": true
   },
   "outputs": [],
   "source": [
    "converted = ts.asfreq('3H')"
   ]
  },
  {
   "cell_type": "code",
   "execution_count": 13,
   "metadata": {
    "collapsed": false
   },
   "outputs": [
    {
     "data": {
      "text/plain": [
       "2011-01-01 03:00:00     3\n",
       "2011-01-01 06:00:00     6\n",
       "2011-01-01 09:00:00     9\n",
       "2011-01-01 12:00:00    12\n",
       "2011-01-01 15:00:00    15\n",
       "2011-01-01 18:00:00    18\n",
       "2011-01-01 21:00:00    21\n",
       "2011-01-02 00:00:00    24\n",
       "2011-01-02 03:00:00    27\n",
       "Freq: 3H, dtype: int64"
      ]
     },
     "execution_count": 13,
     "metadata": {},
     "output_type": "execute_result"
    }
   ],
   "source": [
    "converted[1:10]"
   ]
  },
  {
   "cell_type": "code",
   "execution_count": 14,
   "metadata": {
    "collapsed": false
   },
   "outputs": [
    {
     "data": {
      "text/plain": [
       "2011-01-01 01:00:00    1\n",
       "2011-01-01 02:00:00    2\n",
       "2011-01-01 03:00:00    3\n",
       "2011-01-01 04:00:00    4\n",
       "2011-01-01 05:00:00    5\n",
       "2011-01-01 06:00:00    6\n",
       "2011-01-01 07:00:00    7\n",
       "2011-01-01 08:00:00    8\n",
       "2011-01-01 09:00:00    9\n",
       "Freq: H, dtype: int64"
      ]
     },
     "execution_count": 14,
     "metadata": {},
     "output_type": "execute_result"
    }
   ],
   "source": [
    "ts[1:10]"
   ]
  },
  {
   "cell_type": "markdown",
   "metadata": {},
   "source": [
    "### Resamping\n",
    ".resample() is a time-based groupby, followed by a reduction method on each of its groups. The resample function is very flexible and allows you to specify many different parameters to control the frequency conversion and resampling operation. The how parameter can be a function name or numpy array function that takes an array and produces aggregated values:"
   ]
  },
  {
   "cell_type": "code",
   "execution_count": 15,
   "metadata": {
    "collapsed": false
   },
   "outputs": [
    {
     "data": {
      "text/plain": [
       "2011-01-01 02:00:00     2.5\n",
       "2011-01-01 04:00:00     4.5\n",
       "2011-01-01 06:00:00     6.5\n",
       "2011-01-01 08:00:00     8.5\n",
       "2011-01-01 10:00:00    10.5\n",
       "2011-01-01 12:00:00    12.5\n",
       "2011-01-01 14:00:00    14.5\n",
       "2011-01-01 16:00:00    16.5\n",
       "2011-01-01 18:00:00    18.5\n",
       "Freq: 2H, dtype: float64"
      ]
     },
     "execution_count": 15,
     "metadata": {},
     "output_type": "execute_result"
    }
   ],
   "source": [
    "# Let's try the more flexible .resample()\n",
    "ts.resample('2H').mean()[1:10]"
   ]
  },
  {
   "cell_type": "code",
   "execution_count": 16,
   "metadata": {
    "collapsed": false
   },
   "outputs": [
    {
     "data": {
      "text/plain": [
       "2011-01-01 02:00:00     5\n",
       "2011-01-01 04:00:00     9\n",
       "2011-01-01 06:00:00    13\n",
       "2011-01-01 08:00:00    17\n",
       "2011-01-01 10:00:00    21\n",
       "2011-01-01 12:00:00    25\n",
       "2011-01-01 14:00:00    29\n",
       "2011-01-01 16:00:00    33\n",
       "2011-01-01 18:00:00    37\n",
       "Freq: 2H, dtype: int64"
      ]
     },
     "execution_count": 16,
     "metadata": {},
     "output_type": "execute_result"
    }
   ],
   "source": [
    "ts.resample('2H').sum()[1:10]"
   ]
  },
  {
   "cell_type": "code",
   "execution_count": 17,
   "metadata": {
    "collapsed": false
   },
   "outputs": [],
   "source": [
    "# What's particularly useful is that we can use reample to even out irregular time series\n",
    "irreg_ts = ts[list(np.random.choice(a = list(range(len(ts))), size = 10, replace = False))]"
   ]
  },
  {
   "cell_type": "code",
   "execution_count": 18,
   "metadata": {
    "collapsed": false
   },
   "outputs": [
    {
     "data": {
      "text/plain": [
       "2011-01-03 12:00:00    60\n",
       "2011-01-03 14:00:00    62\n",
       "2011-01-02 03:00:00    27\n",
       "2011-01-02 23:00:00    47\n",
       "2011-01-01 19:00:00    19\n",
       "2011-01-03 19:00:00    67\n",
       "2011-01-01 17:00:00    17\n",
       "2011-01-03 02:00:00    50\n",
       "2011-01-01 20:00:00    20\n",
       "2011-01-01 09:00:00     9\n",
       "dtype: int64"
      ]
     },
     "execution_count": 18,
     "metadata": {},
     "output_type": "execute_result"
    }
   ],
   "source": [
    "irreg_ts"
   ]
  },
  {
   "cell_type": "code",
   "execution_count": 19,
   "metadata": {
    "collapsed": false
   },
   "outputs": [
    {
     "data": {
      "text/plain": [
       "Series([], Freq: D, dtype: int64)"
      ]
     },
     "execution_count": 19,
     "metadata": {},
     "output_type": "execute_result"
    }
   ],
   "source": [
    "irreg_ts.asfreq('D')"
   ]
  },
  {
   "cell_type": "markdown",
   "metadata": {},
   "source": [
    "### Why didn't that work?\n",
    "The time series is not ordered! "
   ]
  },
  {
   "cell_type": "code",
   "execution_count": 20,
   "metadata": {
    "collapsed": false
   },
   "outputs": [
    {
     "data": {
      "text/plain": [
       "2011-01-01 09:00:00     9\n",
       "2011-01-01 17:00:00    17\n",
       "2011-01-01 19:00:00    19\n",
       "2011-01-01 20:00:00    20\n",
       "2011-01-02 03:00:00    27\n",
       "2011-01-02 23:00:00    47\n",
       "2011-01-03 02:00:00    50\n",
       "2011-01-03 12:00:00    60\n",
       "2011-01-03 14:00:00    62\n",
       "2011-01-03 19:00:00    67\n",
       "dtype: int64"
      ]
     },
     "execution_count": 20,
     "metadata": {},
     "output_type": "execute_result"
    }
   ],
   "source": [
    "irreg_ts = irreg_ts.sort_index()\n",
    "irreg_ts"
   ]
  },
  {
   "cell_type": "code",
   "execution_count": 21,
   "metadata": {
    "collapsed": false
   },
   "outputs": [
    {
     "data": {
      "text/plain": [
       "2011-01-01 09:00:00    9.0\n",
       "2011-01-02 09:00:00    NaN\n",
       "2011-01-03 09:00:00    NaN\n",
       "Freq: D, dtype: float64"
      ]
     },
     "execution_count": 21,
     "metadata": {},
     "output_type": "execute_result"
    }
   ],
   "source": [
    "irreg_ts.asfreq('D')"
   ]
  },
  {
   "cell_type": "code",
   "execution_count": 22,
   "metadata": {
    "collapsed": false
   },
   "outputs": [
    {
     "data": {
      "text/plain": [
       "2011-01-01    4\n",
       "2011-01-02    2\n",
       "2011-01-03    4\n",
       "Freq: D, dtype: int64"
      ]
     },
     "execution_count": 22,
     "metadata": {},
     "output_type": "execute_result"
    }
   ],
   "source": [
    "irreg_ts.resample('D').count()"
   ]
  },
  {
   "cell_type": "code",
   "execution_count": 23,
   "metadata": {
    "collapsed": false,
    "scrolled": true
   },
   "outputs": [
    {
     "data": {
      "text/plain": [
       "2011-01-01    16.25\n",
       "2011-01-02    37.00\n",
       "2011-01-03    59.75\n",
       "Freq: D, dtype: float64"
      ]
     },
     "execution_count": 23,
     "metadata": {},
     "output_type": "execute_result"
    }
   ],
   "source": [
    "irreg_ts.resample('D').mean()"
   ]
  },
  {
   "cell_type": "code",
   "execution_count": 24,
   "metadata": {
    "collapsed": false
   },
   "outputs": [
    {
     "data": {
      "text/plain": [
       "2011-01-01     24.916667\n",
       "2011-01-02    200.000000\n",
       "2011-01-03     50.916667\n",
       "Freq: D, dtype: float64"
      ]
     },
     "execution_count": 24,
     "metadata": {},
     "output_type": "execute_result"
    }
   ],
   "source": [
    "irreg_ts.resample('D').var()"
   ]
  },
  {
   "cell_type": "markdown",
   "metadata": {},
   "source": [
    "# Try\n",
    "\n",
    "(1) What if you want to go to a higher frequency, but you don't want to back fill or forward fill? Why might you want to do that?\n",
    "\n",
    "**Answer: We can set the method to be None or leave it unspecified. Then timestamps that do not have a value will be NaN.**\n",
    "\n",
    "(2) What is the difference between .ressample() and .asfreq()?\n",
    "\n",
    "**Answer: asfreq() is limited, while resample() is an aggregation function that allows you to apply different operators on the values.**\n",
    "\n",
    "(3) How can I forward-fill only a few days? (hint: .fillna())\n",
    "\n",
    "**Answer: See below**\n",
    "\n",
    "(4) What are some helpful functions to use with a Resampler object?\n",
    "\n",
    "**Answer: mean(), var(), count(), sum(), pad(), ffill()**"
   ]
  },
  {
   "cell_type": "code",
   "execution_count": 25,
   "metadata": {
    "collapsed": false
   },
   "outputs": [
    {
     "data": {
      "text/plain": [
       "2011-01-01 09:00:00     9\n",
       "2011-01-01 17:00:00    17\n",
       "2011-01-01 19:00:00    19\n",
       "2011-01-01 20:00:00    20\n",
       "2011-01-02 03:00:00    27\n",
       "2011-01-02 23:00:00    47\n",
       "2011-01-03 02:00:00    50\n",
       "2011-01-03 12:00:00    60\n",
       "2011-01-03 14:00:00    62\n",
       "2011-01-03 19:00:00    67\n",
       "dtype: int64"
      ]
     },
     "execution_count": 25,
     "metadata": {},
     "output_type": "execute_result"
    }
   ],
   "source": [
    "irreg_ts"
   ]
  },
  {
   "cell_type": "code",
   "execution_count": 26,
   "metadata": {
    "collapsed": false,
    "scrolled": true
   },
   "outputs": [
    {
     "data": {
      "text/plain": [
       "2011-01-01 06:00:00     NaN\n",
       "2011-01-01 12:00:00     9.0\n",
       "2011-01-01 18:00:00    17.0\n",
       "2011-01-02 00:00:00    20.0\n",
       "2011-01-02 06:00:00    27.0\n",
       "2011-01-02 12:00:00     NaN\n",
       "2011-01-02 18:00:00     NaN\n",
       "2011-01-03 00:00:00    47.0\n",
       "2011-01-03 06:00:00    50.0\n",
       "2011-01-03 12:00:00    60.0\n",
       "2011-01-03 18:00:00    62.0\n",
       "Freq: 6H, dtype: float64"
      ]
     },
     "execution_count": 26,
     "metadata": {},
     "output_type": "execute_result"
    }
   ],
   "source": [
    "irreg_ts.resample('6H').fillna(method='ffill', limit=1)"
   ]
  },
  {
   "cell_type": "code",
   "execution_count": 27,
   "metadata": {
    "collapsed": false
   },
   "outputs": [
    {
     "data": {
      "text/plain": [
       "2011-01-01 06:00:00     NaN\n",
       "2011-01-01 12:00:00     9.0\n",
       "2011-01-01 18:00:00    17.0\n",
       "2011-01-02 00:00:00    20.0\n",
       "2011-01-02 06:00:00    27.0\n",
       "2011-01-02 12:00:00    27.0\n",
       "2011-01-02 18:00:00     NaN\n",
       "2011-01-03 00:00:00    47.0\n",
       "2011-01-03 06:00:00    50.0\n",
       "2011-01-03 12:00:00    60.0\n",
       "2011-01-03 18:00:00    62.0\n",
       "Freq: 6H, dtype: float64"
      ]
     },
     "execution_count": 27,
     "metadata": {},
     "output_type": "execute_result"
    }
   ],
   "source": [
    "irreg_ts.resample('6H').fillna(method='ffill', limit=2)"
   ]
  }
 ],
 "metadata": {
  "kernelspec": {
   "display_name": "Python 3",
   "language": "python",
   "name": "python3"
  },
  "language_info": {
   "codemirror_mode": {
    "name": "ipython",
    "version": 3
   },
   "file_extension": ".py",
   "mimetype": "text/x-python",
   "name": "python",
   "nbconvert_exporter": "python",
   "pygments_lexer": "ipython3",
   "version": "3.6.0"
  }
 },
 "nbformat": 4,
 "nbformat_minor": 0
}
