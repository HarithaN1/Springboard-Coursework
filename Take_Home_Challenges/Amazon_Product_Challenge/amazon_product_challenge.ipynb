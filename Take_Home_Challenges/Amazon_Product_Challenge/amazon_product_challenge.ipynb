{
 "cells": [
  {
   "cell_type": "markdown",
   "metadata": {},
   "source": [
    "# Amazon Product Data Science Challenge\n",
    "\n",
    "The challenge is posed by KeepUp and involves a dataset from Amazon. KeepUp is an edTech startup based in San Francisco. Founded in 2012 by Rick Sindhwani, it curates educational resources to help companies rapidly train their employees and keep up with changing times and trends.\n",
    "\n",
    "**Data source:** http://snap.stanford.edu/data/amazon-meta.html \n",
    "\n",
    "**Data entry format:**\n",
    "* Id: Product id (number 0, ..., 548551) \n",
    "* ASIN: Amazon Standard Identification Number \n",
    "* title: Name/title of the product \n",
    "* group: Product group (Book, DVD, Video or Music) \n",
    "* salesrank: Amazon Salesrank \n",
    "* similar: ASINs of co-purchased products (people who buy X also buy Y) \n",
    "* categories: Location in product category hierarchy to which the product belongs \n",
    "(separated by |, category id in [ ]) \n",
    "* reviews: Product review information: time, user id, rating, total number of votes on the \n",
    "review, total number of helpfulness votes (how many people found the review to \n",
    "be helpful) \n",
    "\n",
    "## Exploratory Analysis\n",
    "\n",
    "With the given data for 548,552 products, perform exploratory analysis and make \n",
    "suggestions for further analysis on the following aspects.  \n",
    "\n",
    "### Trustworthiness of ratings  \n",
    "\n",
    "Ratings are susceptible to manipulation or bias by companies who hire people to write fake reviews in order to push sales. One challenge for Amazon is to identify the instances of fake reviews. Here are a few possible cases when companies want to increase sales on a timeline:\n",
    "\n",
    "* A lot of positive reviews happens within a few days of each other\n",
    "* The same person (who is then hired) writes many reviews within a few days"
   ]
  },
  {
   "cell_type": "code",
   "execution_count": 1,
   "metadata": {
    "collapsed": true
   },
   "outputs": [],
   "source": [
    "import pandas as pd\n",
    "import numpy as np\n",
    "import matplotlib.pyplot as plt\n",
    "% matplotlib inline"
   ]
  },
  {
   "cell_type": "code",
   "execution_count": 2,
   "metadata": {},
   "outputs": [
    {
     "name": "stdout",
     "output_type": "stream",
     "text": [
      "<class 'pandas.core.frame.DataFrame'>\n",
      "RangeIndex: 7593244 entries, 0 to 7593243\n",
      "Data columns (total 5 columns):\n",
      "asin        object\n",
      "customer    object\n",
      "date        datetime64[ns]\n",
      "id          int64\n",
      "rating      int64\n",
      "dtypes: datetime64[ns](1), int64(2), object(2)\n",
      "memory usage: 289.7+ MB\n"
     ]
    }
   ],
   "source": [
    "reviews_dict = {'id': [], 'asin': [], 'date': [], 'customer': [], 'rating': []}\n",
    "\n",
    "with open('amazon-meta.txt', 'r', encoding='utf-8') as f:\n",
    "    for line in f:\n",
    "        if line.startswith('Id'):\n",
    "            Id = line.split()[1]\n",
    "        elif line.startswith('ASIN'):\n",
    "            ASIN = line.split()[1]\n",
    "        elif line.startswith('    '):\n",
    "            review = line.split()\n",
    "            reviews_dict['id'].append(int(Id))\n",
    "            reviews_dict['asin'].append(ASIN)\n",
    "            reviews_dict['date'].append(review[0])\n",
    "            reviews_dict['customer'].append(review[2])\n",
    "            reviews_dict['rating'].append(int(review[4]))\n",
    "\n",
    "df = pd.DataFrame.from_dict(reviews_dict)\n",
    "df['date'] = pd.to_datetime(df['date'])\n",
    "df.info()"
   ]
  },
  {
   "cell_type": "code",
   "execution_count": 3,
   "metadata": {},
   "outputs": [
    {
     "name": "stdout",
     "output_type": "stream",
     "text": [
      "<class 'pandas.core.frame.DataFrame'>\n",
      "RangeIndex: 7593244 entries, 0 to 7593243\n",
      "Data columns (total 5 columns):\n",
      "asin        object\n",
      "customer    object\n",
      "date        datetime64[ns]\n",
      "id          int64\n",
      "rating      int64\n",
      "dtypes: datetime64[ns](1), int64(2), object(2)\n",
      "memory usage: 289.7+ MB\n"
     ]
    }
   ],
   "source": [
    "df = pd.DataFrame.from_dict(reviews_dict)\n",
    "df['date'] = pd.to_datetime(df['date'])\n",
    "df.info()"
   ]
  },
  {
   "cell_type": "code",
   "execution_count": 4,
   "metadata": {},
   "outputs": [
    {
     "data": {
      "text/html": [
       "<div>\n",
       "<style>\n",
       "    .dataframe thead tr:only-child th {\n",
       "        text-align: right;\n",
       "    }\n",
       "\n",
       "    .dataframe thead th {\n",
       "        text-align: left;\n",
       "    }\n",
       "\n",
       "    .dataframe tbody tr th {\n",
       "        vertical-align: top;\n",
       "    }\n",
       "</style>\n",
       "<table border=\"1\" class=\"dataframe\">\n",
       "  <thead>\n",
       "    <tr style=\"text-align: right;\">\n",
       "      <th></th>\n",
       "      <th>asin</th>\n",
       "      <th>customer</th>\n",
       "      <th>date</th>\n",
       "      <th>id</th>\n",
       "      <th>rating</th>\n",
       "    </tr>\n",
       "  </thead>\n",
       "  <tbody>\n",
       "    <tr>\n",
       "      <th>0</th>\n",
       "      <td>0827229534</td>\n",
       "      <td>A2JW67OY8U6HHK</td>\n",
       "      <td>2000-07-28</td>\n",
       "      <td>1</td>\n",
       "      <td>5</td>\n",
       "    </tr>\n",
       "    <tr>\n",
       "      <th>1</th>\n",
       "      <td>0827229534</td>\n",
       "      <td>A2VE83MZF98ITY</td>\n",
       "      <td>2003-12-14</td>\n",
       "      <td>1</td>\n",
       "      <td>5</td>\n",
       "    </tr>\n",
       "    <tr>\n",
       "      <th>2</th>\n",
       "      <td>0738700797</td>\n",
       "      <td>A11NCO6YTE4BTJ</td>\n",
       "      <td>2001-12-16</td>\n",
       "      <td>2</td>\n",
       "      <td>5</td>\n",
       "    </tr>\n",
       "    <tr>\n",
       "      <th>3</th>\n",
       "      <td>0738700797</td>\n",
       "      <td>A9CQ3PLRNIR83</td>\n",
       "      <td>2002-01-07</td>\n",
       "      <td>2</td>\n",
       "      <td>4</td>\n",
       "    </tr>\n",
       "    <tr>\n",
       "      <th>4</th>\n",
       "      <td>0738700797</td>\n",
       "      <td>A13SG9ACZ9O5IM</td>\n",
       "      <td>2002-01-24</td>\n",
       "      <td>2</td>\n",
       "      <td>5</td>\n",
       "    </tr>\n",
       "    <tr>\n",
       "      <th>5</th>\n",
       "      <td>0738700797</td>\n",
       "      <td>A1BDAI6VEYMAZA</td>\n",
       "      <td>2002-01-28</td>\n",
       "      <td>2</td>\n",
       "      <td>5</td>\n",
       "    </tr>\n",
       "    <tr>\n",
       "      <th>6</th>\n",
       "      <td>0738700797</td>\n",
       "      <td>A2P6KAWXJ16234</td>\n",
       "      <td>2002-02-06</td>\n",
       "      <td>2</td>\n",
       "      <td>4</td>\n",
       "    </tr>\n",
       "    <tr>\n",
       "      <th>7</th>\n",
       "      <td>0738700797</td>\n",
       "      <td>AMACWC3M7PQFR</td>\n",
       "      <td>2002-02-14</td>\n",
       "      <td>2</td>\n",
       "      <td>4</td>\n",
       "    </tr>\n",
       "    <tr>\n",
       "      <th>8</th>\n",
       "      <td>0738700797</td>\n",
       "      <td>A3GO7UV9XX14D8</td>\n",
       "      <td>2002-03-23</td>\n",
       "      <td>2</td>\n",
       "      <td>4</td>\n",
       "    </tr>\n",
       "    <tr>\n",
       "      <th>9</th>\n",
       "      <td>0738700797</td>\n",
       "      <td>A1GIL64QK68WKL</td>\n",
       "      <td>2002-05-23</td>\n",
       "      <td>2</td>\n",
       "      <td>5</td>\n",
       "    </tr>\n",
       "  </tbody>\n",
       "</table>\n",
       "</div>"
      ],
      "text/plain": [
       "         asin        customer       date  id  rating\n",
       "0  0827229534  A2JW67OY8U6HHK 2000-07-28   1       5\n",
       "1  0827229534  A2VE83MZF98ITY 2003-12-14   1       5\n",
       "2  0738700797  A11NCO6YTE4BTJ 2001-12-16   2       5\n",
       "3  0738700797   A9CQ3PLRNIR83 2002-01-07   2       4\n",
       "4  0738700797  A13SG9ACZ9O5IM 2002-01-24   2       5\n",
       "5  0738700797  A1BDAI6VEYMAZA 2002-01-28   2       5\n",
       "6  0738700797  A2P6KAWXJ16234 2002-02-06   2       4\n",
       "7  0738700797   AMACWC3M7PQFR 2002-02-14   2       4\n",
       "8  0738700797  A3GO7UV9XX14D8 2002-03-23   2       4\n",
       "9  0738700797  A1GIL64QK68WKL 2002-05-23   2       5"
      ]
     },
     "execution_count": 4,
     "metadata": {},
     "output_type": "execute_result"
    }
   ],
   "source": [
    "df.head(10)"
   ]
  },
  {
   "cell_type": "code",
   "execution_count": 5,
   "metadata": {},
   "outputs": [
    {
     "data": {
      "text/html": [
       "<div>\n",
       "<style>\n",
       "    .dataframe thead tr:only-child th {\n",
       "        text-align: right;\n",
       "    }\n",
       "\n",
       "    .dataframe thead th {\n",
       "        text-align: left;\n",
       "    }\n",
       "\n",
       "    .dataframe tbody tr th {\n",
       "        vertical-align: top;\n",
       "    }\n",
       "</style>\n",
       "<table border=\"1\" class=\"dataframe\">\n",
       "  <thead>\n",
       "    <tr style=\"text-align: right;\">\n",
       "      <th></th>\n",
       "      <th>id</th>\n",
       "      <th>date</th>\n",
       "      <th>size</th>\n",
       "      <th>mean</th>\n",
       "    </tr>\n",
       "  </thead>\n",
       "  <tbody>\n",
       "    <tr>\n",
       "      <th>0</th>\n",
       "      <td>258380</td>\n",
       "      <td>2003-06-22</td>\n",
       "      <td>736</td>\n",
       "      <td>4.664402</td>\n",
       "    </tr>\n",
       "    <tr>\n",
       "      <th>1</th>\n",
       "      <td>519891</td>\n",
       "      <td>2003-06-22</td>\n",
       "      <td>736</td>\n",
       "      <td>4.663043</td>\n",
       "    </tr>\n",
       "    <tr>\n",
       "      <th>2</th>\n",
       "      <td>6130</td>\n",
       "      <td>2003-06-22</td>\n",
       "      <td>736</td>\n",
       "      <td>4.669837</td>\n",
       "    </tr>\n",
       "    <tr>\n",
       "      <th>3</th>\n",
       "      <td>429348</td>\n",
       "      <td>2003-06-22</td>\n",
       "      <td>736</td>\n",
       "      <td>4.660326</td>\n",
       "    </tr>\n",
       "    <tr>\n",
       "      <th>4</th>\n",
       "      <td>527309</td>\n",
       "      <td>2000-07-09</td>\n",
       "      <td>705</td>\n",
       "      <td>4.828369</td>\n",
       "    </tr>\n",
       "    <tr>\n",
       "      <th>5</th>\n",
       "      <td>429123</td>\n",
       "      <td>2000-07-09</td>\n",
       "      <td>705</td>\n",
       "      <td>4.828369</td>\n",
       "    </tr>\n",
       "    <tr>\n",
       "      <th>6</th>\n",
       "      <td>311376</td>\n",
       "      <td>2000-07-09</td>\n",
       "      <td>705</td>\n",
       "      <td>4.822695</td>\n",
       "    </tr>\n",
       "    <tr>\n",
       "      <th>7</th>\n",
       "      <td>84842</td>\n",
       "      <td>2000-07-09</td>\n",
       "      <td>705</td>\n",
       "      <td>4.822695</td>\n",
       "    </tr>\n",
       "    <tr>\n",
       "      <th>8</th>\n",
       "      <td>4739</td>\n",
       "      <td>2000-07-09</td>\n",
       "      <td>705</td>\n",
       "      <td>4.831206</td>\n",
       "    </tr>\n",
       "    <tr>\n",
       "      <th>9</th>\n",
       "      <td>544342</td>\n",
       "      <td>2000-07-09</td>\n",
       "      <td>705</td>\n",
       "      <td>4.828369</td>\n",
       "    </tr>\n",
       "  </tbody>\n",
       "</table>\n",
       "</div>"
      ],
      "text/plain": [
       "       id       date  size      mean\n",
       "0  258380 2003-06-22   736  4.664402\n",
       "1  519891 2003-06-22   736  4.663043\n",
       "2    6130 2003-06-22   736  4.669837\n",
       "3  429348 2003-06-22   736  4.660326\n",
       "4  527309 2000-07-09   705  4.828369\n",
       "5  429123 2000-07-09   705  4.828369\n",
       "6  311376 2000-07-09   705  4.822695\n",
       "7   84842 2000-07-09   705  4.822695\n",
       "8    4739 2000-07-09   705  4.831206\n",
       "9  544342 2000-07-09   705  4.828369"
      ]
     },
     "execution_count": 5,
     "metadata": {},
     "output_type": "execute_result"
    }
   ],
   "source": [
    "# Count the number of reviews per day for each product and its average rating\n",
    "df_date = df.groupby(['id', 'date'])['rating'].agg([np.size, np.mean]).sort_values(by='size', ascending=False).reset_index()\n",
    "df_date.head(10)"
   ]
  },
  {
   "cell_type": "code",
   "execution_count": 6,
   "metadata": {},
   "outputs": [
    {
     "data": {
      "text/plain": [
       "<matplotlib.axes._subplots.AxesSubplot at 0x2aa8ad1bfd0>"
      ]
     },
     "execution_count": 6,
     "metadata": {},
     "output_type": "execute_result"
    },
    {
     "data": {
      "image/png": "[encoded data removed]",
      "text/plain": [
       "<matplotlib.figure.Figure at 0x2aa8ad1b160>"
      ]
     },
     "metadata": {},
     "output_type": "display_data"
    }
   ],
   "source": [
    "# A lot of reviews tend to happen at the beginning, so it could simply \n",
    "# be that the products were newly released and caused many people to write about them\n",
    "product = 258380\n",
    "\n",
    "df_date.loc[df_date['id']==product].sort_values('date').plot(x='date', y='size')"
   ]
  },
  {
   "cell_type": "code",
   "execution_count": 7,
   "metadata": {
    "scrolled": false
   },
   "outputs": [
    {
     "data": {
      "text/html": [
       "<div>\n",
       "<style>\n",
       "    .dataframe thead tr:only-child th {\n",
       "        text-align: right;\n",
       "    }\n",
       "\n",
       "    .dataframe thead th {\n",
       "        text-align: left;\n",
       "    }\n",
       "\n",
       "    .dataframe tbody tr th {\n",
       "        vertical-align: top;\n",
       "    }\n",
       "</style>\n",
       "<table border=\"1\" class=\"dataframe\">\n",
       "  <thead>\n",
       "    <tr style=\"text-align: right;\">\n",
       "      <th></th>\n",
       "      <th>customer</th>\n",
       "      <th>date</th>\n",
       "      <th>size</th>\n",
       "      <th>mean</th>\n",
       "    </tr>\n",
       "  </thead>\n",
       "  <tbody>\n",
       "    <tr>\n",
       "      <th>0</th>\n",
       "      <td>ATVPDKIKX0DER</td>\n",
       "      <td>1998-08-22</td>\n",
       "      <td>4981</td>\n",
       "      <td>4.351737</td>\n",
       "    </tr>\n",
       "    <tr>\n",
       "      <th>1</th>\n",
       "      <td>ATVPDKIKX0DER</td>\n",
       "      <td>1999-11-08</td>\n",
       "      <td>2837</td>\n",
       "      <td>4.326049</td>\n",
       "    </tr>\n",
       "    <tr>\n",
       "      <th>2</th>\n",
       "      <td>ATVPDKIKX0DER</td>\n",
       "      <td>1999-11-16</td>\n",
       "      <td>2650</td>\n",
       "      <td>4.336981</td>\n",
       "    </tr>\n",
       "    <tr>\n",
       "      <th>3</th>\n",
       "      <td>ATVPDKIKX0DER</td>\n",
       "      <td>1999-11-03</td>\n",
       "      <td>2616</td>\n",
       "      <td>4.247706</td>\n",
       "    </tr>\n",
       "    <tr>\n",
       "      <th>4</th>\n",
       "      <td>ATVPDKIKX0DER</td>\n",
       "      <td>1999-11-02</td>\n",
       "      <td>2575</td>\n",
       "      <td>4.316505</td>\n",
       "    </tr>\n",
       "    <tr>\n",
       "      <th>5</th>\n",
       "      <td>ATVPDKIKX0DER</td>\n",
       "      <td>1999-06-29</td>\n",
       "      <td>2528</td>\n",
       "      <td>4.312104</td>\n",
       "    </tr>\n",
       "    <tr>\n",
       "      <th>6</th>\n",
       "      <td>ATVPDKIKX0DER</td>\n",
       "      <td>1999-04-14</td>\n",
       "      <td>2521</td>\n",
       "      <td>4.196747</td>\n",
       "    </tr>\n",
       "    <tr>\n",
       "      <th>7</th>\n",
       "      <td>ATVPDKIKX0DER</td>\n",
       "      <td>1999-11-04</td>\n",
       "      <td>2459</td>\n",
       "      <td>4.311509</td>\n",
       "    </tr>\n",
       "    <tr>\n",
       "      <th>8</th>\n",
       "      <td>ATVPDKIKX0DER</td>\n",
       "      <td>1999-07-06</td>\n",
       "      <td>2449</td>\n",
       "      <td>4.319314</td>\n",
       "    </tr>\n",
       "    <tr>\n",
       "      <th>9</th>\n",
       "      <td>ATVPDKIKX0DER</td>\n",
       "      <td>1999-10-24</td>\n",
       "      <td>2448</td>\n",
       "      <td>4.161765</td>\n",
       "    </tr>\n",
       "  </tbody>\n",
       "</table>\n",
       "</div>"
      ],
      "text/plain": [
       "        customer       date  size      mean\n",
       "0  ATVPDKIKX0DER 1998-08-22  4981  4.351737\n",
       "1  ATVPDKIKX0DER 1999-11-08  2837  4.326049\n",
       "2  ATVPDKIKX0DER 1999-11-16  2650  4.336981\n",
       "3  ATVPDKIKX0DER 1999-11-03  2616  4.247706\n",
       "4  ATVPDKIKX0DER 1999-11-02  2575  4.316505\n",
       "5  ATVPDKIKX0DER 1999-06-29  2528  4.312104\n",
       "6  ATVPDKIKX0DER 1999-04-14  2521  4.196747\n",
       "7  ATVPDKIKX0DER 1999-11-04  2459  4.311509\n",
       "8  ATVPDKIKX0DER 1999-07-06  2449  4.319314\n",
       "9  ATVPDKIKX0DER 1999-10-24  2448  4.161765"
      ]
     },
     "execution_count": 7,
     "metadata": {},
     "output_type": "execute_result"
    }
   ],
   "source": [
    "# Count the number of reviews written per customer for each day\n",
    "# A single customer wrote thousands of reviews for many days \n",
    "\n",
    "df_person = df.groupby(['customer', 'date'])['rating'].agg([np.size, np.mean]).sort_values(by='size', ascending=False).reset_index()\n",
    "df_person.head(10)"
   ]
  },
  {
   "cell_type": "code",
   "execution_count": 8,
   "metadata": {},
   "outputs": [
    {
     "data": {
      "text/plain": [
       "<matplotlib.axes._subplots.AxesSubplot at 0x2aad6584ba8>"
      ]
     },
     "execution_count": 8,
     "metadata": {},
     "output_type": "execute_result"
    },
    {
     "data": {
      "image/png": "[encoded data removed]",
      "text/plain": [
       "<matplotlib.figure.Figure at 0x2aad6569f60>"
      ]
     },
     "metadata": {},
     "output_type": "display_data"
    }
   ],
   "source": [
    "# This time series shows that this cusomter wrote thousands of reviews consistently \n",
    "# for about a year and half from mid 1998 to the end of 1999 and then sudden stopped writing as much\n",
    "customer = 'ATVPDKIKX0DER'\n",
    "\n",
    "df_person.loc[df_person['customer']==customer].sort_values('date').plot(x='date', y='size')"
   ]
  },
  {
   "cell_type": "markdown",
   "metadata": {},
   "source": [
    "### Category bloat  \n",
    "Consider the product group named 'Books'. Each product in this group is associated with \n",
    "categories. Naturally, with categorization, there are tradeoffs between how broad or \n",
    "specific the categories must be.  \n",
    "\n",
    "For this dataset, quantify the following: \n",
    "1. Is there redundancy in the categorization? How can it be identified/removed? \n",
    "2. Is it possible to reduce the number of categories drastically (say to 10% of existing \n",
    "categories) by sacrificing relatively few unique categories (say close to 10%)? "
   ]
  },
  {
   "cell_type": "code",
   "execution_count": 9,
   "metadata": {},
   "outputs": [],
   "source": [
    "books_dict = {'id': [], 'title': [], 'cat_depth': [], 'category': []}\n",
    "\n",
    "with open('amazon-meta.txt', 'r', encoding='utf-8') as f:\n",
    "    for line in f:\n",
    "        if line.startswith('Id'):\n",
    "            product = line.split()[1]\n",
    "        elif line.startswith('  title'):\n",
    "            title = line.split()[1]\n",
    "        elif line.startswith('  group'):\n",
    "            group = line.split()[1]\n",
    "        elif line.startswith('   |') and group=='Book':\n",
    "            books_dict['id'].append(int(product))\n",
    "            books_dict['title'].append(title)\n",
    "            cat = line.split(\"|\")[1:]\n",
    "            books_dict['cat_depth'].append(int(len(cat)))\n",
    "            books_dict['category'].append(line)"
   ]
  },
  {
   "cell_type": "code",
   "execution_count": 10,
   "metadata": {},
   "outputs": [
    {
     "name": "stdout",
     "output_type": "stream",
     "text": [
      "<class 'pandas.core.frame.DataFrame'>\n",
      "RangeIndex: 1440329 entries, 0 to 1440328\n",
      "Data columns (total 4 columns):\n",
      "cat_depth    1440329 non-null int64\n",
      "category     1440329 non-null object\n",
      "id           1440329 non-null int64\n",
      "title        1440329 non-null object\n",
      "dtypes: int64(2), object(2)\n",
      "memory usage: 44.0+ MB\n"
     ]
    }
   ],
   "source": [
    "df_books = pd.DataFrame.from_dict(books_dict)\n",
    "df_books.info()"
   ]
  },
  {
   "cell_type": "code",
   "execution_count": 11,
   "metadata": {
    "scrolled": true
   },
   "outputs": [
    {
     "data": {
      "text/html": [
       "<div>\n",
       "<style>\n",
       "    .dataframe thead tr:only-child th {\n",
       "        text-align: right;\n",
       "    }\n",
       "\n",
       "    .dataframe thead th {\n",
       "        text-align: left;\n",
       "    }\n",
       "\n",
       "    .dataframe tbody tr th {\n",
       "        vertical-align: top;\n",
       "    }\n",
       "</style>\n",
       "<table border=\"1\" class=\"dataframe\">\n",
       "  <thead>\n",
       "    <tr style=\"text-align: right;\">\n",
       "      <th></th>\n",
       "      <th>cat_depth</th>\n",
       "      <th>category</th>\n",
       "      <th>id</th>\n",
       "      <th>title</th>\n",
       "    </tr>\n",
       "  </thead>\n",
       "  <tbody>\n",
       "    <tr>\n",
       "      <th>0</th>\n",
       "      <td>6</td>\n",
       "      <td>|Books[283155]|Subjects[1000]|Religion &amp; Sp...</td>\n",
       "      <td>1</td>\n",
       "      <td>Patterns</td>\n",
       "    </tr>\n",
       "    <tr>\n",
       "      <th>1</th>\n",
       "      <td>6</td>\n",
       "      <td>|Books[283155]|Subjects[1000]|Religion &amp; Sp...</td>\n",
       "      <td>1</td>\n",
       "      <td>Patterns</td>\n",
       "    </tr>\n",
       "    <tr>\n",
       "      <th>2</th>\n",
       "      <td>5</td>\n",
       "      <td>|Books[283155]|Subjects[1000]|Religion &amp; Sp...</td>\n",
       "      <td>2</td>\n",
       "      <td>Candlemas:</td>\n",
       "    </tr>\n",
       "    <tr>\n",
       "      <th>3</th>\n",
       "      <td>5</td>\n",
       "      <td>|Books[283155]|Subjects[1000]|Religion &amp; Sp...</td>\n",
       "      <td>2</td>\n",
       "      <td>Candlemas:</td>\n",
       "    </tr>\n",
       "    <tr>\n",
       "      <th>4</th>\n",
       "      <td>5</td>\n",
       "      <td>|Books[283155]|Subjects[1000]|Home &amp; Garden...</td>\n",
       "      <td>3</td>\n",
       "      <td>World</td>\n",
       "    </tr>\n",
       "  </tbody>\n",
       "</table>\n",
       "</div>"
      ],
      "text/plain": [
       "   cat_depth                                           category  id  \\\n",
       "0          6     |Books[283155]|Subjects[1000]|Religion & Sp...   1   \n",
       "1          6     |Books[283155]|Subjects[1000]|Religion & Sp...   1   \n",
       "2          5     |Books[283155]|Subjects[1000]|Religion & Sp...   2   \n",
       "3          5     |Books[283155]|Subjects[1000]|Religion & Sp...   2   \n",
       "4          5     |Books[283155]|Subjects[1000]|Home & Garden...   3   \n",
       "\n",
       "        title  \n",
       "0    Patterns  \n",
       "1    Patterns  \n",
       "2  Candlemas:  \n",
       "3  Candlemas:  \n",
       "4       World  "
      ]
     },
     "execution_count": 11,
     "metadata": {},
     "output_type": "execute_result"
    }
   ],
   "source": [
    "df_books.head()"
   ]
  },
  {
   "cell_type": "code",
   "execution_count": 12,
   "metadata": {},
   "outputs": [
    {
     "data": {
      "text/html": [
       "<div>\n",
       "<style>\n",
       "    .dataframe thead tr:only-child th {\n",
       "        text-align: right;\n",
       "    }\n",
       "\n",
       "    .dataframe thead th {\n",
       "        text-align: left;\n",
       "    }\n",
       "\n",
       "    .dataframe tbody tr th {\n",
       "        vertical-align: top;\n",
       "    }\n",
       "</style>\n",
       "<table border=\"1\" class=\"dataframe\">\n",
       "  <thead>\n",
       "    <tr style=\"text-align: right;\">\n",
       "      <th></th>\n",
       "      <th>index</th>\n",
       "      <th>category</th>\n",
       "      <th>count</th>\n",
       "    </tr>\n",
       "  </thead>\n",
       "  <tbody>\n",
       "    <tr>\n",
       "      <th>0</th>\n",
       "      <td>11878</td>\n",
       "      <td>|[265523]|Amazon.com Stores[285080]|Home &amp; ...</td>\n",
       "      <td>18438</td>\n",
       "    </tr>\n",
       "    <tr>\n",
       "      <th>1</th>\n",
       "      <td>1877</td>\n",
       "      <td>|Books[283155]|Subjects[1000]|Business &amp; In...</td>\n",
       "      <td>18436</td>\n",
       "    </tr>\n",
       "    <tr>\n",
       "      <th>2</th>\n",
       "      <td>8668</td>\n",
       "      <td>|Books[283155]|Subjects[1000]|Reference[21]...</td>\n",
       "      <td>13701</td>\n",
       "    </tr>\n",
       "    <tr>\n",
       "      <th>3</th>\n",
       "      <td>1605</td>\n",
       "      <td>|Books[283155]|Subjects[1000]|Biographies &amp;...</td>\n",
       "      <td>12241</td>\n",
       "    </tr>\n",
       "    <tr>\n",
       "      <th>4</th>\n",
       "      <td>7829</td>\n",
       "      <td>|Books[283155]|Subjects[1000]|Nonfiction[53...</td>\n",
       "      <td>11779</td>\n",
       "    </tr>\n",
       "  </tbody>\n",
       "</table>\n",
       "</div>"
      ],
      "text/plain": [
       "   index                                           category  count\n",
       "0  11878     |[265523]|Amazon.com Stores[285080]|Home & ...  18438\n",
       "1   1877     |Books[283155]|Subjects[1000]|Business & In...  18436\n",
       "2   8668     |Books[283155]|Subjects[1000]|Reference[21]...  13701\n",
       "3   1605     |Books[283155]|Subjects[1000]|Biographies &...  12241\n",
       "4   7829     |Books[283155]|Subjects[1000]|Nonfiction[53...  11779"
      ]
     },
     "execution_count": 12,
     "metadata": {},
     "output_type": "execute_result"
    }
   ],
   "source": [
    "categories = df_books.groupby(['category']).size().reset_index().rename(columns={0:'count'}).sort_values('count', ascending=False).reset_index()\n",
    "categories.head()"
   ]
  },
  {
   "cell_type": "code",
   "execution_count": 13,
   "metadata": {
    "scrolled": true
   },
   "outputs": [
    {
     "name": "stdout",
     "output_type": "stream",
     "text": [
      "The total number of category entires for all books: 1440329\n",
      "The total number of different (or unique) categories: 12853\n"
     ]
    }
   ],
   "source": [
    "entries = df_books.shape[0]\n",
    "unique = categories.shape[0]\n",
    "print('The total number of category entires for all books: {}'.format(entries))\n",
    "print('The total number of different (or unique) categories: {}'.format(unique))"
   ]
  },
  {
   "cell_type": "code",
   "execution_count": 14,
   "metadata": {},
   "outputs": [
    {
     "name": "stdout",
     "output_type": "stream",
     "text": [
      "0    |[265523]|Amazon.com Stores[285080]|Home & Office[764512]|Business & Investing Books[767740]|General[767880]\n",
      "\n",
      "1    |Books[283155]|Subjects[1000]|Business & Investing[3]|General[2612]\n",
      "\n",
      "2    |Books[283155]|Subjects[1000]|Reference[21]|General[408268]\n",
      "\n",
      "3    |Books[283155]|Subjects[1000]|Biographies & Memoirs[2]|General[2375]\n",
      "\n",
      "4    |Books[283155]|Subjects[1000]|Nonfiction[53]|Social Sciences[11232]|Sociology[11288]|General[11289]\n",
      "\n"
     ]
    }
   ],
   "source": [
    "# Print out the broadest 5 categories and they are all general categories\n",
    "for i in range(5):\n",
    "    print(i, categories.iloc[i].category)"
   ]
  },
  {
   "cell_type": "code",
   "execution_count": 15,
   "metadata": {},
   "outputs": [
    {
     "name": "stdout",
     "output_type": "stream",
     "text": [
      "Remove 1285 broadest cateogories will reduce the total number of category entries by 1033423.\n"
     ]
    }
   ],
   "source": [
    "# Eliminate 10% of the broadest categories will remove more than 70% of all category entries.\n",
    "threshold = round(0.1 * unique)\n",
    "broadest = categories.iloc[:threshold].category\n",
    "removed = sum(df_books.category.isin(broadest))\n",
    "print('Remove {} broadest cateogories will reduce the total number of category entries by {}.'.format(threshold, removed))"
   ]
  },
  {
   "cell_type": "code",
   "execution_count": 16,
   "metadata": {},
   "outputs": [
    {
     "name": "stdout",
     "output_type": "stream",
     "text": [
      "Elimiate only 10% of the broadest catogories will reduce 71.7% of all category entries.\n"
     ]
    }
   ],
   "source": [
    "print('Elimiate only 10% of the broadest catogories will reduce {:.1f}% of all category entries.'.format(removed/entries*100))"
   ]
  }
 ],
 "metadata": {
  "kernelspec": {
   "display_name": "Python 3",
   "language": "python",
   "name": "python3"
  },
  "language_info": {
   "codemirror_mode": {
    "name": "ipython",
    "version": 3
   },
   "file_extension": ".py",
   "mimetype": "text/x-python",
   "name": "python",
   "nbconvert_exporter": "python",
   "pygments_lexer": "ipython3",
   "version": "3.6.0"
  }
 },
 "nbformat": 4,
 "nbformat_minor": 2
}
